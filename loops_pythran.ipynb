{
 "cells": [
  {
   "cell_type": "markdown",
   "metadata": {},
   "source": [
    "# Comment optimiser son code ?\n",
    "\n",
    "- trouver les régions lentes du code en faisant du profiling\n",
    "- écrire sa propre API C/Python (si vous en avez le courage !!!!)\n",
    "- optimiser ces parties en se ramenant à un langage bas niveau (Cython, Pythran, Numba, ...)"
   ]
  },
  {
   "cell_type": "markdown",
   "metadata": {},
   "source": [
    "# Calcul de $\\pi$\n",
    "On souhaite approcher $\\pi$ en calculant l'intégrale suivante\n",
    "\n",
    "$$\n",
    "\\pi = \\int_0^1f(x)dx \\; \\text{avec} \\; f(x)=\\frac{4}{1+x^2}.\n",
    "$$\n",
    "\n",
    "Pour ce faire, on approche l'intégrale en utilisant une méthode des rectangles\n",
    "\n",
    "$$\n",
    "\\pi \\approx \\frac{1}{n}\\sum_{i=0}^{n-1}f(x_i), \\; \\text{avec} \\; x_i=\\frac{i+0.5}{n} \\; \\text{pour} \\; i=0,\\cdots,n-1.\n",
    "$$"
   ]
  },
  {
   "cell_type": "markdown",
   "metadata": {},
   "source": [
    "Voici une écriture possible en Python"
   ]
  },
  {
   "cell_type": "code",
   "execution_count": null,
   "metadata": {
    "collapsed": true
   },
   "outputs": [],
   "source": [
    "def f(x):\n",
    "    return 4./(1 + x**2)\n",
    "\n",
    "def calculPi(n):\n",
    "    h, pi = 1./n, 0.\n",
    "    for i in xrange(n):\n",
    "        pi += f(h*(i+.5))\n",
    "    return h*pi"
   ]
  },
  {
   "cell_type": "markdown",
   "metadata": {},
   "source": [
    "## Outils de profiling\n",
    "\n",
    "### Le module `time`\n",
    "Une première façon de profiler son code est d'utiliser le module `time` de Python."
   ]
  },
  {
   "cell_type": "code",
   "execution_count": null,
   "metadata": {
    "collapsed": false
   },
   "outputs": [],
   "source": [
    "import time\n",
    "n, nrep = 1000000, 10\n",
    "\n",
    "t1 = time.time()\n",
    "for i in xrange(nrep):\n",
    "    pi = calculPi(n)\n",
    "print pi, (time.time() - t1)/nrep"
   ]
  },
  {
   "cell_type": "markdown",
   "metadata": {},
   "source": [
    "### Le module `timeit`\n",
    "\n",
    "On peut appeler de base `timeit` avec le notebook de IPython via la commande magic `%timeit`. Dans un script Python, il est nécessaire de faire\n",
    "\n",
    "```\n",
    "from timeit import timeit\n",
    "```"
   ]
  },
  {
   "cell_type": "code",
   "execution_count": null,
   "metadata": {
    "collapsed": false
   },
   "outputs": [],
   "source": [
    "%timeit calculPi(n)"
   ]
  },
  {
   "cell_type": "markdown",
   "metadata": {},
   "source": [
    "### Le module `cProfile`\n",
    "\n",
    "`cProfile` est fourni de base avec Python et est écrit en C. Il permet d'avoir des informations basiques de profiling."
   ]
  },
  {
   "cell_type": "code",
   "execution_count": null,
   "metadata": {
    "collapsed": false
   },
   "outputs": [],
   "source": [
    "import cProfile\n",
    "\n",
    "cProfile.run('calculPi(%d)'%n)"
   ]
  },
  {
   "cell_type": "markdown",
   "metadata": {},
   "source": [
    "### le module `line_profiler`\n",
    "\n",
    "Ce module est beaucoup plus complet que les précedents puisqu'il est possible d'avoir le profiling du code ligne à ligne."
   ]
  },
  {
   "cell_type": "markdown",
   "metadata": {},
   "source": [
    "On peut profiler n'importe quelle fontion de notre code en rajoutant le decorateur `profile` et en utilisant le script `kernprof`.\n",
    "\n",
    "Reprenons notre exemple en ajoutant le décorateur."
   ]
  },
  {
   "cell_type": "code",
   "execution_count": null,
   "metadata": {
    "collapsed": false
   },
   "outputs": [],
   "source": [
    "%%file calculPi.py\n",
    "@profile\n",
    "def f(x):\n",
    "    return 4./(1 + x**2)\n",
    "\n",
    "@profile\n",
    "def calculPi(n):\n",
    "    h, pi = 1./n, 0.\n",
    "    for i in xrange(n):\n",
    "        pi += f(h*(i+.5))\n",
    "    return h*pi\n",
    "\n",
    "if __name__ == '__main__':\n",
    "    n = 1000000\n",
    "    calculPi(n)"
   ]
  },
  {
   "cell_type": "code",
   "execution_count": null,
   "metadata": {
    "collapsed": false
   },
   "outputs": [],
   "source": [
    "!kernprof -l -v calculPi.py"
   ]
  },
  {
   "cell_type": "markdown",
   "metadata": {},
   "source": [
    "## Pythran\n",
    "\n",
    "### Principe général\n",
    "\n",
    "- se branche sur le module écrit en Python\n",
    "- ajout d'un commentaire permettant d'indiquer les fonctions à optimiser\n",
    "- construction d'un graphe de flot de contrôle\n",
    "- recherche des types des variables par inférence\n",
    "- optimisation des fonctions"
   ]
  },
  {
   "cell_type": "markdown",
   "metadata": {},
   "source": [
    "<center>\n",
    "<img src=\"files/pythrandiag1.png\" style=\"width: 100%;\" />\n",
    "</center>"
   ]
  },
  {
   "cell_type": "markdown",
   "metadata": {},
   "source": [
    "Nous allons utiliser Pythran directement dans le notebook en utilisant la commande `%load_ext`."
   ]
  },
  {
   "cell_type": "code",
   "execution_count": null,
   "metadata": {
    "collapsed": false
   },
   "outputs": [],
   "source": [
    "import pythran\n",
    "%load_ext pythran.magic"
   ]
  },
  {
   "cell_type": "code",
   "execution_count": null,
   "metadata": {
    "collapsed": false
   },
   "outputs": [],
   "source": [
    "%%pythran\n",
    "\n",
    "#pythran export calculPi_pythran(int)\n",
    "\n",
    "def f(x):\n",
    "    return 4./(1 + x**2)\n",
    "\n",
    "def calculPi_pythran(n):\n",
    "    h, pi = 1./n, 0.\n",
    "    for i in range(n):\n",
    "        pi += f(h*(i+.5))\n",
    "    return h*pi"
   ]
  },
  {
   "cell_type": "code",
   "execution_count": null,
   "metadata": {
    "collapsed": false
   },
   "outputs": [],
   "source": [
    "n=100000000\n",
    "print calculPi_pythran(n)\n",
    "%timeit calculPi_pythran(n)"
   ]
  },
  {
   "cell_type": "markdown",
   "metadata": {},
   "source": [
    "On peut facilement ajouter des pragmas openMP."
   ]
  },
  {
   "cell_type": "code",
   "execution_count": null,
   "metadata": {
    "collapsed": true
   },
   "outputs": [],
   "source": [
    "%%pythran -fopenmp\n",
    "\n",
    "#pythran export calculPi_pythran_omp(int)\n",
    "\n",
    "def f(x):\n",
    "    return 4./(1 + x**2)\n",
    "\n",
    "def calculPi_pythran_omp(n):\n",
    "    h, pi = 1./n, 0.\n",
    "    #omp parallel for reduction(+:pi)\n",
    "    for i in range(n):\n",
    "        pi += f(h*(i+.5))\n",
    "    return h*pi"
   ]
  },
  {
   "cell_type": "code",
   "execution_count": null,
   "metadata": {
    "collapsed": false
   },
   "outputs": [],
   "source": [
    "print calculPi_pythran_omp(n)\n",
    "%timeit calculPi_pythran_omp(n)"
   ]
  },
  {
   "cell_type": "markdown",
   "metadata": {},
   "source": [
    "# Modèle de Gray-Scott"
   ]
  },
  {
   "cell_type": "markdown",
   "metadata": {},
   "source": [
    "Le modèle de Gray-Scott permet de simuler deux espèces chimiques $A$ et $B$ qui réagissent entre elles et qui diffusent.\n",
    "\n",
    "Le modèle mathématique est assez simple\n",
    "\n",
    "$$\n",
    "\\begin{array}{l}\n",
    "\\frac{\\partial A}{\\partial t} = D_A \\Delta A - AB^2 + f(1-A) \\\\\n",
    "\\frac{\\partial B}{\\partial t} = D_B \\Delta B + AB^2 - (k+f)B\n",
    "\\end{array}\n",
    "$$\n",
    "\n",
    "On peut approcher le laplacien par un schéma aux différences finies à 5 points. \n",
    "\n",
    "$$\n",
    "\\Delta A_{i,j} \\approx A_{i,j-1} + A_{i-1,j} -4A_{i,j} + A_{i+1, j} + A_{i, j+1}\n",
    "$$\n",
    "\n",
    "La dérivée en temps peut être approchée par un schéma d'Euler explicite."
   ]
  },
  {
   "cell_type": "markdown",
   "metadata": {},
   "source": [
    "## Initialisation\n",
    "\n",
    "$A$ vaut $1$ partout et $B$ vaut $0$ partout sauf à un endroit du domaine où on met $0.25$. Cet endroit sera une ellipse centrée au centre du domaine $[0, 1]\\times[0,1]$et de rayons $r_x=0.02$ et $r_y=0.04$."
   ]
  },
  {
   "cell_type": "code",
   "execution_count": null,
   "metadata": {
    "collapsed": true
   },
   "outputs": [],
   "source": [
    "import numpy as np\n",
    "\n",
    "def init(n):\n",
    "    A = np.ones((n+2,n+2))\n",
    "    B = np.zeros((n+2,n+2))\n",
    "\n",
    "    x = np.linspace(0, 1, n+2)\n",
    "    y = np.linspace(0, 1, n+2)[:, np.newaxis]\n",
    "\n",
    "    rx = .02\n",
    "    ry = .04\n",
    "\n",
    "    mask = (x-.5)**2/rx**2 + (y-.5)**2/ry**2 < 1\n",
    "    B[mask] = .25\n",
    "    return A, B"
   ]
  },
  {
   "cell_type": "markdown",
   "metadata": {},
   "source": [
    "## Conditions périodiques"
   ]
  },
  {
   "cell_type": "code",
   "execution_count": null,
   "metadata": {
    "collapsed": true
   },
   "outputs": [],
   "source": [
    "def periodic_cond(u):\n",
    "    u[0, :] = u[-2, :]\n",
    "    u[-1, :] = u[1, :]\n",
    "    u[:, 0] = u[:, -2]\n",
    "    u[:, -1] = u[:, 1]"
   ]
  },
  {
   "cell_type": "markdown",
   "metadata": {},
   "source": [
    "## Laplacien et modèle de Gray-Scott"
   ]
  },
  {
   "cell_type": "code",
   "execution_count": null,
   "metadata": {
    "collapsed": false
   },
   "outputs": [],
   "source": [
    "def laplacian(u):\n",
    "  return (                  u[ :-2, 1:-1] +\n",
    "           u[1:-1, :-2] - 4*u[1:-1, 1:-1] + u[1:-1, 2:] +\n",
    "                        +   u[2:  , 1:-1] )\n",
    "\n",
    "def grayscott(A, B, Da, Db, f, k):\n",
    "    a, b = A[1:-1,1:-1], B[1:-1,1:-1]\n",
    "\n",
    "    La = laplacian(A)\n",
    "    Lb = laplacian(B)\n",
    "\n",
    "    abb = a*b*b\n",
    "    a += Da*La - abb + f*(1 - a)\n",
    "    b += Db*Lb + abb - (f + k)*b"
   ]
  },
  {
   "cell_type": "code",
   "execution_count": null,
   "metadata": {
    "collapsed": false
   },
   "outputs": [],
   "source": [
    "def animate(i):\n",
    "  global A, B, Da, Db; f, k\n",
    "  for t in range(50):\n",
    "    grayscott(A, B, Da, Db, f, k)\n",
    "    periodic_cond(A)\n",
    "    periodic_cond(B)\n",
    "  im.set_array(B)\n",
    "  return im,"
   ]
  },
  {
   "cell_type": "code",
   "execution_count": null,
   "metadata": {
    "collapsed": false
   },
   "outputs": [],
   "source": [
    "Da, Db = .1, .05\n",
    "f, k = 0.0367, 0.0649\n",
    "#f, k = 0.0545, 0.062\n",
    "#f, k = 0.018, 0.050\n",
    "#f, k = 0.050, 0.065\n",
    "#f, k = 0.035, 0.060"
   ]
  },
  {
   "cell_type": "code",
   "execution_count": null,
   "metadata": {
    "collapsed": false
   },
   "outputs": [],
   "source": [
    "%matplotlib nbagg\n",
    "import matplotlib.pyplot as plt\n",
    "import matplotlib.animation as animation\n",
    "import matplotlib.cm as cm\n",
    "\n",
    "fig = plt.figure(figsize=(10,10))\n",
    "ax = fig.add_subplot(111)\n",
    "\n",
    "A, B = init(200)\n",
    "\n",
    "im = plt.imshow(B, cmap = cm.Greys)\n",
    "\n",
    "anim = animation.FuncAnimation(fig, animate, np.arange(1, 200),\n",
    "    interval=2, blit=True)\n",
    "\n",
    "plt.show()"
   ]
  },
  {
   "cell_type": "code",
   "execution_count": null,
   "metadata": {
    "collapsed": false
   },
   "outputs": [],
   "source": [
    "A, B = init(2000)\n",
    "%timeit grayscott(A, B, Da, Db, f, k)"
   ]
  },
  {
   "cell_type": "markdown",
   "metadata": {},
   "source": [
    "## Cython\n",
    "\n",
    "Nous allons écrire le code Cython associé à ce problème afin d'avoir un temps de référence.\n",
    "\n",
    "Pour ce faire, on utilise la commande magic `cython` pour pouvoir utiliser directement Cython via le notebook. L'option `-a` permet de voir le code via l'API C/Python généré."
   ]
  },
  {
   "cell_type": "code",
   "execution_count": null,
   "metadata": {
    "collapsed": false
   },
   "outputs": [],
   "source": [
    "%load_ext cython"
   ]
  },
  {
   "cell_type": "code",
   "execution_count": null,
   "metadata": {
    "collapsed": false
   },
   "outputs": [],
   "source": [
    "%%cython -a --compile-args=-fopenmp --link-args=-fopenmp\n",
    "cimport cython\n",
    "from cython.parallel import prange, parallel\n",
    "import numpy as np\n",
    "\n",
    "@cython.boundscheck(False)\n",
    "def grayscott_cython(double[:, ::1] A, double[:, ::1] B, double Da, double Db, double f, double k):\n",
    "    cdef:\n",
    "        int i, j, itime\n",
    "        int nx = A.shape[0]\n",
    "        int ny = A.shape[1]\n",
    "        double[:, ::1] La = np.zeros_like(A)\n",
    "        double[:, ::1] Lb = np.zeros_like(A)\n",
    "        double abb\n",
    "          \n",
    "    for i in range(1, nx - 1):\n",
    "        for j in range(1, ny - 1):\n",
    "            La[i, j] = A[i-1, j] + A[i, j-1] - 4*A[i, j] + A[i+1, j] + A[i, j+1]\n",
    "            Lb[i, j] = B[i-1, j] + B[i, j-1] - 4*B[i, j] + B[i+1, j] + B[i, j+1]\n",
    "\n",
    "    for i in range(1, nx - 1):\n",
    "        for j in range(1, ny - 1):\n",
    "            abb = A[i, j]*B[i, j]*B[i, j]\n",
    "            A[i, j] += Da*La[i, j] - abb + f*(1 - A[i, j])\n",
    "            B[i, j] += Db*Lb[i, j] + abb - (f + k)*B[i, j]\n",
    "    \n",
    "@cython.boundscheck(False)\n",
    "def grayscott_cython_openmp(double[:, ::1] A, double[:, ::1] B, double Da, double Db, double f, double k):\n",
    "    cdef:\n",
    "        int i, j, itime\n",
    "        int nx = A.shape[0]\n",
    "        int ny = A.shape[1]\n",
    "        double[:, ::1] La = np.zeros_like(A)\n",
    "        double[:, ::1] Lb = np.zeros_like(A)\n",
    "        double abb\n",
    "          \n",
    "    with nogil, parallel(num_threads=8):\n",
    "        for i in prange(1, nx - 1, schedule='dynamic'):\n",
    "            for j in range(1, ny - 1):\n",
    "                La[i, j] = A[i-1, j] + A[i, j-1] - 4*A[i, j] + A[i+1, j] + A[i, j+1]\n",
    "                Lb[i, j] = B[i-1, j] + B[i, j-1] - 4*B[i, j] + B[i+1, j] + B[i, j+1]\n",
    "\n",
    "        for i in prange(1, nx - 1, schedule='dynamic'):\n",
    "            for j in range(1, ny - 1):\n",
    "                abb = A[i, j]*B[i, j]*B[i, j]\n",
    "                A[i, j] += Da*La[i, j] - abb + f*(1 - A[i, j])\n",
    "                B[i, j] += Db*Lb[i, j] + abb - (f + k)*B[i, j]"
   ]
  },
  {
   "cell_type": "code",
   "execution_count": null,
   "metadata": {
    "collapsed": false
   },
   "outputs": [],
   "source": [
    "A, B = init(2000)\n",
    "%timeit grayscott_cython(A, B, Da, Db, f, k)"
   ]
  },
  {
   "cell_type": "code",
   "execution_count": null,
   "metadata": {
    "collapsed": false
   },
   "outputs": [],
   "source": [
    "A, B = init(2000)\n",
    "%timeit grayscott_cython_openmp(A, B, Da, Db, f, k)"
   ]
  },
  {
   "cell_type": "markdown",
   "metadata": {},
   "source": [
    "## Pythran"
   ]
  },
  {
   "cell_type": "code",
   "execution_count": null,
   "metadata": {
    "collapsed": false
   },
   "outputs": [],
   "source": [
    "%%pythran -fopenmp\n",
    "import numpy as np\n",
    "def laplacian(u):\n",
    "  return (                  u[ :-2, 1:-1] +\n",
    "           u[1:-1, :-2] - 4*u[1:-1, 1:-1] + u[1:-1, 2:] +\n",
    "                        +   u[2:  , 1:-1] )\n",
    "\n",
    "#pythran export grayscott_pythran(float64[][], float64[][], float64, float64, float64, float64)\n",
    "#pythran export grayscott_pythran_unroll(float64[][], float64[][], float64, float64, float64, float64)\n",
    "#pythran export grayscott_pythran_unroll_omp(float64[][], float64[][], float64, float64, float64, float64)\n",
    "\n",
    "def grayscott_pythran(A, B, Da, Db, f, k):\n",
    "    a, b = A[1:-1,1:-1], B[1:-1,1:-1]\n",
    "\n",
    "    La = laplacian(A)\n",
    "    Lb = laplacian(B)\n",
    "\n",
    "    abb = a*b*b\n",
    "    a += Da*La - abb + f*(1 - a)\n",
    "    b += Db*Lb + abb - (f + k)*b\n",
    "\n",
    "def grayscott_pythran_unroll(A, B, Da, Db, f, k):\n",
    "    a, b = A[1:-1,1:-1], B[1:-1,1:-1]\n",
    "    La = np.zeros_like(A)\n",
    "    Lb = np.zeros_like(A)\n",
    "\n",
    "    for i in range(1, A.shape[0]-1):\n",
    "        for j in range(1, A.shape[1]-1):\n",
    "            La[i, j] = A[i-1, j] + A[i, j-1] - 4*A[i, j] + A[i+1, j] + A[i, j+1]\n",
    "            Lb[i, j] = B[i-1, j] + B[i, j-1] - 4*B[i, j] + B[i+1, j] + B[i, j+1]\n",
    "\n",
    "    for i in range(1, A.shape[0]-1):\n",
    "        for j in range(1, A.shape[1]-1):\n",
    "            abb = A[i, j]*B[i, j]*B[i, j]\n",
    "            A[i, j] += Da*La[i, j] - abb + f*(1 - A[i, j])\n",
    "            B[i, j] += Db*Lb[i, j] + abb - (f + k)*B[i, j]\n",
    "            \n",
    "def grayscott_pythran_unroll_omp(A, B, Da, Db, f, k):\n",
    "    a, b = A[1:-1,1:-1], B[1:-1,1:-1]\n",
    "    La = np.zeros_like(A)\n",
    "    Lb = np.zeros_like(A)\n",
    "\n",
    "    #omp parallel for \n",
    "    for i in range(1, A.shape[0]-1):\n",
    "        #omp parallel for \n",
    "        for j in range(1, A.shape[1]-1):\n",
    "            La[i, j] = A[i-1, j] + A[i, j-1] - 4*A[i, j] + A[i+1, j] + A[i, j+1]\n",
    "            Lb[i, j] = B[i-1, j] + B[i, j-1] - 4*B[i, j] + B[i+1, j] + B[i, j+1]\n",
    "\n",
    "    #omp parallel for \n",
    "    for i in range(1, A.shape[0]-1):\n",
    "        #omp parallel for \n",
    "        for j in range(1, A.shape[1]-1):\n",
    "            abb = A[i, j]*B[i, j]*B[i, j]\n",
    "            A[i, j] += Da*La[i, j] - abb + f*(1 - A[i, j])\n",
    "            B[i, j] += Db*Lb[i, j] + abb - (f + k)*B[i, j]            "
   ]
  },
  {
   "cell_type": "code",
   "execution_count": null,
   "metadata": {
    "collapsed": false
   },
   "outputs": [],
   "source": [
    "A, B = init(2000)\n",
    "%timeit grayscott_pythran(A, B, Da, Db, f, k)"
   ]
  },
  {
   "cell_type": "code",
   "execution_count": null,
   "metadata": {
    "collapsed": false
   },
   "outputs": [],
   "source": [
    "A, B = init(2000)\n",
    "%timeit grayscott_pythran_unroll(A, B, Da, Db, f, k)"
   ]
  },
  {
   "cell_type": "code",
   "execution_count": null,
   "metadata": {
    "collapsed": false
   },
   "outputs": [],
   "source": [
    "A, B = init(2000)\n",
    "%timeit grayscott_pythran_unroll_omp(A, B, Da, Db, f, k)"
   ]
  },
  {
   "cell_type": "markdown",
   "metadata": {},
   "source": [
    "## Misc\n",
    "\n",
    "- spécialiser les fonctions par rapport à différents types\n",
    "- compatible Python 2 et Python 3\n",
    "- possibilité de voir le code C++ généré\n",
    "- possibilité de voir les flags de compilation\n",
    "- support pour une utilisation avec distutils"
   ]
  },
  {
   "cell_type": "markdown",
   "metadata": {},
   "source": [
    "## Pour aller plus loin\n",
    "\n",
    "- [Pythran tutorial](http://serge-sans-paille.github.io/pythran-stories/pythran-tutorial.html)(dont ce notebook s'est fortement inspiré)\n",
    "- GitHub: https://github.com/serge-sans-paille/pythran\n",
    "- Mailing list: http://www.freelists.org/list/pythran\n",
    "- IRC: #pythran on FreeNode\n",
    "- StackOverflow: http://stackoverflow.com/questions/tagged/pythran\n"
   ]
  },
  {
   "cell_type": "code",
   "execution_count": 43,
   "metadata": {
    "collapsed": false
   },
   "outputs": [
    {
     "data": {
      "text/html": [
       "<link href='http://fonts.googleapis.com/css?family=Oswald' rel='stylesheet' type='text/css'>\n",
       "<link href='http://fonts.googleapis.com/css?family=Lora:400,400italic' rel='stylesheet' type='text/css'>\n",
       "<link href='http://fonts.googleapis.com/css?family=Open+Sans:300' rel='stylesheet' type='text/css'>\n",
       "<link href='http://fonts.googleapis.com/css?family=Alegreya+Sans:100,300,400,500,700,800,900,100italic,300italic,400italic,500italic,700italic,800italic,900italic' rel='stylesheet' type='text/css'>\n",
       "\n",
       "<style>\n",
       "\n",
       "h1, h2, h3, h4, h5 {\n",
       "    font-family: 'Alegreya Sans', sans-serif;\n",
       "}\n",
       "\n",
       "div.text_cell_render{\n",
       "    font-family: 'Alegreya Sans',Computer Modern, \"Helvetica Neue\", Arial, Helvetica, Geneva, sans-serif;\n",
       "    line-height: 135%;\n",
       "    font-size: 140%;\n",
       "    width:100%;/*600px;*/\n",
       "    /*margin-left:auto;*/\n",
       "    /*margin-right:auto;*/\n",
       "}\n",
       "/*div.text_cell_render{font-family: \"Open Sans\", sans-serif;font-weight: normal; line-height:normal;}*/\n",
       "\n",
       "/* header colours and fonts */\n",
       ".rendered_html h1 {\n",
       "    color:#9A3334;\n",
       "    /*margin-top: 0.5em;*/\n",
       "    padding: 1em;\n",
       "    display: block;\n",
       "    font-size: 40px;\n",
       "    text-align: center;\n",
       "    border-top: 2px solid #9A3334;\n",
       "    border-bottom: 2px solid #9A3334;\n",
       "}\n",
       "\n",
       "/*.rendered_html h1 { color: #9A3334; font-family: Lora, sans-serif; font-weight: normal; text-align: center; }*/\n",
       ".rendered_html h2 {\n",
       "    color: #9A3334;\n",
       "    /*font-family: Lora, sans-serif;*/\n",
       "    font-style: italic;\n",
       "    font-weight: normal;\n",
       "    font-size: 30px;\n",
       "    /*text-align: center;*/\n",
       "    border-bottom: 1px solid #9A3334;\n",
       "}\n",
       ".rendered_html h3 {\n",
       "    color: #9A3334;\n",
       "    /*font-family: Lora, sans-serif;*/\n",
       "    font-weight: normal;\n",
       "    font-size: 25px;\n",
       "    font-style: italic;\n",
       "}\n",
       "\n",
       ".rendered_html h4 {\n",
       "    border: 2px solid #9A3334;\n",
       "    border-radius: 25px;\n",
       "    font-style: italic;\n",
       "    height:5%;\n",
       "    width:20%;\n",
       "    padding:5px;\n",
       "    text-align: center;\n",
       "}\n",
       "\n",
       "div.prompt {\n",
       "    display: None;\n",
       "}\n",
       "\n",
       "/* center the images */\n",
       ".ui-wrapper {\n",
       "    margin-left: auto !important;\n",
       "    margin-right: auto !important;\n",
       "}\n",
       "\n",
       "/* center the images */\n",
       ".video {\n",
       "    margin-left: auto !important;\n",
       "    margin-right: auto !important;\n",
       "}\n",
       "\n",
       ".rendered_html img {\n",
       "    margin-top: 0em;\n",
       "}\n",
       "\n",
       "div.input_area {\n",
       "    border-radius: 10px;\n",
       "}\n",
       "\n",
       ".reveal h1 {\n",
       "    font-size: 70px;\n",
       "    text-shadow: 10px 10px 10px rgba(0, 0, 0, 0.5);\n",
       "}\n",
       "\n",
       ".reveal h2 {\n",
       "    font-size: 50px;\n",
       "    text-shadow: 10px 10px 10px rgba(0, 0, 0, 0.5);\n",
       "}\n",
       "\n",
       ".reveal h3 {\n",
       "    font-size: 50px;\n",
       "    \n",
       "}\n",
       "\n",
       "</style>"
      ],
      "text/plain": [
       "<IPython.core.display.HTML object>"
      ]
     },
     "execution_count": 43,
     "metadata": {},
     "output_type": "execute_result"
    }
   ],
   "source": [
    "# execute this part to modify the css style\n",
    "from IPython.core.display import HTML\n",
    "def css_styling():\n",
    "    styles = open(\"./styles/custom.css\", \"r\").read()\n",
    "    return HTML(styles)\n",
    "css_styling()"
   ]
  }
 ],
 "metadata": {
  "kernelspec": {
   "display_name": "Python 2",
   "language": "python",
   "name": "python2"
  },
  "language_info": {
   "codemirror_mode": {
    "name": "ipython",
    "version": 2
   },
   "file_extension": ".py",
   "mimetype": "text/x-python",
   "name": "python",
   "nbconvert_exporter": "python",
   "pygments_lexer": "ipython2",
   "version": "2.7.11"
  }
 },
 "nbformat": 4,
 "nbformat_minor": 0
}
